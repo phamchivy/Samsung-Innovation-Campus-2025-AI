{
 "cells": [
  {
   "cell_type": "markdown",
   "metadata": {},
   "source": [
    "## Coding Exercise #0702"
   ]
  },
  {
   "cell_type": "markdown",
   "metadata": {},
   "source": [
    "### 1. Convolutional Neural Network (color images):"
   ]
  },
  {
   "cell_type": "code",
   "execution_count": 1,
   "metadata": {},
   "outputs": [
    {
     "name": "stdout",
     "output_type": "stream",
     "text": [
      "2.13.0-rc1\n"
     ]
    }
   ],
   "source": [
    "import tensorflow as tf\n",
    "print(tf.__version__)"
   ]
  },
  {
   "cell_type": "code",
   "execution_count": 2,
   "metadata": {},
   "outputs": [],
   "source": [
    "import numpy as np\n",
    "import pandas as pd\n",
    "from tensorflow.keras.datasets.cifar10 import load_data\n",
    "import matplotlib.pyplot as plt\n",
    "%matplotlib inline"
   ]
  },
  {
   "cell_type": "markdown",
   "metadata": {},
   "source": [
    "#### 1.1. Download the data:"
   ]
  },
  {
   "cell_type": "markdown",
   "metadata": {},
   "source": [
    "More information about the dataset can be found [here](https://www.cs.toronto.edu/~kriz/cifar.html)."
   ]
  },
  {
   "cell_type": "code",
   "execution_count": 3,
   "metadata": {},
   "outputs": [],
   "source": [
    "(X_train, y_train), (X_test, y_test) = load_data()\n",
    "n_train_size = X_train.shape[0]"
   ]
  },
  {
   "cell_type": "markdown",
   "metadata": {},
   "source": [
    "#### 1.2. Take a look at the dataset:"
   ]
  },
  {
   "cell_type": "code",
   "execution_count": 4,
   "metadata": {},
   "outputs": [
    {
     "name": "stdout",
     "output_type": "stream",
     "text": [
      "Training data X shape: (50000, 32, 32, 3)\n",
      "Training data y shape: (50000, 1)\n",
      "\n",
      "\n",
      "Testing data X shape: (10000, 32, 32, 3)\n",
      "Testing data y shape: (10000, 1)\n"
     ]
    }
   ],
   "source": [
    "# Images already reshaped as 32x32.\n",
    "# 3 Color channels.\n",
    "# y is not one-hot-encoded yet.\n",
    "print(\"Training data X shape: {}\".format(X_train.shape))\n",
    "print(\"Training data y shape: {}\".format(y_train.shape))\n",
    "print(\"\\n\")\n",
    "print(\"Testing data X shape: {}\".format(X_test.shape))\n",
    "print(\"Testing data y shape: {}\".format(y_test.shape))"
   ]
  },
  {
   "cell_type": "markdown",
   "metadata": {},
   "source": [
    "Visualization."
   ]
  },
  {
   "cell_type": "code",
   "execution_count": 5,
   "metadata": {},
   "outputs": [
    {
     "data": {
      "image/png": "[encoded data removed]",
      "text/plain": [
       "<Figure size 640x480 with 1 Axes>"
      ]
     },
     "metadata": {},
     "output_type": "display_data"
    }
   ],
   "source": [
    "i_image= 123                                                        # Image index. You can change it at will.\n",
    "a_single_image= X_train[i_image,:,:,:]\n",
    "plt.imshow(a_single_image)                                          #  Display as a color image.\n",
    "plt.show()"
   ]
  },
  {
   "cell_type": "code",
   "execution_count": 6,
   "metadata": {},
   "outputs": [
    {
     "name": "stdout",
     "output_type": "stream",
     "text": [
      "MIN : 1\n",
      "MAX : 243\n"
     ]
    }
   ],
   "source": [
    "# Check for the minimum and maximum pixel value.\n",
    "print(\"MIN : {}\".format(a_single_image.min()))                 \n",
    "print(\"MAX : {}\".format(a_single_image.max())) "
   ]
  },
  {
   "cell_type": "markdown",
   "metadata": {},
   "source": [
    "#### 1.3. Data preprocessing: "
   ]
  },
  {
   "cell_type": "code",
   "execution_count": 7,
   "metadata": {},
   "outputs": [],
   "source": [
    "# Scaling.\n",
    "X_train = X_train/255                      \n",
    "X_test = X_test/255                 "
   ]
  },
  {
   "cell_type": "markdown",
   "metadata": {},
   "source": [
    "#### 1.4. Define the hyperparameters and placeholders:"
   ]
  },
  {
   "cell_type": "code",
   "execution_count": 8,
   "metadata": {},
   "outputs": [],
   "source": [
    "batch_size = 8\n",
    "n_epochs  = 20\n",
    "learn_rate = 0.0001"
   ]
  },
  {
   "cell_type": "markdown",
   "metadata": {},
   "source": [
    "#### 1.5. Define the deep learning model (CNN): "
   ]
  },
  {
   "cell_type": "code",
   "execution_count": 9,
   "metadata": {},
   "outputs": [],
   "source": [
    "model = tf.keras.Sequential()\n",
    "model.add(tf.keras.Input(shape=(32, 32, 3)))\n",
    "\n",
    "# 1st Convolution layer\n",
    "model.add(tf.keras.layers.Conv2D(\n",
    "    filters=32, kernel_size=(7, 7),\n",
    "    strides=(1, 1), padding='same',\n",
    "    data_format='channels_last',\n",
    "    name='conv_1', activation=None))\n",
    "# 1st Pooling layer\n",
    "model.add(tf.keras.layers.MaxPool2D(\n",
    "    pool_size=(2, 2), name='pool_1'))"
   ]
  },
  {
   "cell_type": "code",
   "execution_count": 10,
   "metadata": {},
   "outputs": [],
   "source": [
    "# 2nd Convolution layer\n",
    "model.add(tf.keras.layers.Conv2D(\n",
    "    filters=64, kernel_size=(5, 5),\n",
    "    strides=(1, 1), padding='same',\n",
    "    name='conv_2', activation='relu'))                      # Apply the ReLu activation function. \n",
    "# 2nd Pooling layer\n",
    "model.add(tf.keras.layers.MaxPool2D(\n",
    "    pool_size=(2, 2), name='pool_2'))"
   ]
  },
  {
   "cell_type": "code",
   "execution_count": 11,
   "metadata": {},
   "outputs": [],
   "source": [
    "# Flattened full layer\n",
    "model.add(tf.keras.layers.Flatten())\n",
    "# fully connected layer\n",
    "model.add(tf.keras.layers.Dense(\n",
    "    units=1024, name='fc_1',\n",
    "    activation='relu'))"
   ]
  },
  {
   "cell_type": "code",
   "execution_count": 12,
   "metadata": {},
   "outputs": [],
   "source": [
    "# Dropout layer\n",
    "model.add(tf.keras.layers.Dropout(\n",
    "    rate=0.5))"
   ]
  },
  {
   "cell_type": "code",
   "execution_count": 13,
   "metadata": {},
   "outputs": [],
   "source": [
    "# Output layer\n",
    "model.add(tf.keras.layers.Dense(\n",
    "    units=10, name='fc_2',\n",
    "    activation='softmax'))"
   ]
  },
  {
   "cell_type": "markdown",
   "metadata": {},
   "source": [
    "#### 1.7. Define the loss function and the optimizer:"
   ]
  },
  {
   "cell_type": "code",
   "execution_count": 14,
   "metadata": {},
   "outputs": [
    {
     "name": "stderr",
     "output_type": "stream",
     "text": [
      "WARNING:absl:At this time, the v2.11+ optimizer `tf.keras.optimizers.Adam` runs slowly on M1/M2 Macs, please use the legacy Keras optimizer instead, located at `tf.keras.optimizers.legacy.Adam`.\n",
      "WARNING:absl:There is a known slowdown when using v2.11+ Keras optimizers on M1/M2 Macs. Falling back to the legacy Keras optimizer, i.e., `tf.keras.optimizers.legacy.Adam`.\n"
     ]
    }
   ],
   "source": [
    "model.compile(optimizer=tf.keras.optimizers.Adam(learning_rate = learn_rate),\n",
    "              loss=tf.keras.losses.SparseCategoricalCrossentropy(),\n",
    "              metrics=['accuracy'])"
   ]
  },
  {
   "cell_type": "code",
   "execution_count": 15,
   "metadata": {},
   "outputs": [
    {
     "name": "stdout",
     "output_type": "stream",
     "text": [
      "Model: \"sequential\"\n",
      "_________________________________________________________________\n",
      " Layer (type)                Output Shape              Param #   \n",
      "=================================================================\n",
      " conv_1 (Conv2D)             (None, 32, 32, 32)        4736      \n",
      "                                                                 \n",
      " pool_1 (MaxPooling2D)       (None, 16, 16, 32)        0         \n",
      "                                                                 \n",
      " conv_2 (Conv2D)             (None, 16, 16, 64)        51264     \n",
      "                                                                 \n",
      " pool_2 (MaxPooling2D)       (None, 8, 8, 64)          0         \n",
      "                                                                 \n",
      " flatten (Flatten)           (None, 4096)              0         \n",
      "                                                                 \n",
      " fc_1 (Dense)                (None, 1024)              4195328   \n",
      "                                                                 \n",
      " dropout (Dropout)           (None, 1024)              0         \n",
      "                                                                 \n",
      " fc_2 (Dense)                (None, 10)                10250     \n",
      "                                                                 \n",
      "=================================================================\n",
      "Total params: 4261578 (16.26 MB)\n",
      "Trainable params: 4261578 (16.26 MB)\n",
      "Non-trainable params: 0 (0.00 Byte)\n",
      "_________________________________________________________________\n"
     ]
    }
   ],
   "source": [
    "model.summary()"
   ]
  },
  {
   "cell_type": "markdown",
   "metadata": {},
   "source": [
    "#### 1.8. Training and Testing:"
   ]
  },
  {
   "cell_type": "code",
   "execution_count": 16,
   "metadata": {},
   "outputs": [
    {
     "name": "stdout",
     "output_type": "stream",
     "text": [
      "Epoch 1/20\n",
      "6250/6250 [==============================] - 80s 13ms/step - loss: 1.4937 - accuracy: 0.4643 - val_loss: 1.2125 - val_accuracy: 0.5782\n",
      "Epoch 2/20\n",
      "6250/6250 [==============================] - 83s 13ms/step - loss: 1.1497 - accuracy: 0.5958 - val_loss: 1.0504 - val_accuracy: 0.6273\n",
      "Epoch 3/20\n",
      "6250/6250 [==============================] - 83s 13ms/step - loss: 0.9958 - accuracy: 0.6519 - val_loss: 0.9772 - val_accuracy: 0.6604\n",
      "Epoch 4/20\n",
      "6250/6250 [==============================] - 58s 9ms/step - loss: 0.8916 - accuracy: 0.6907 - val_loss: 0.9047 - val_accuracy: 0.6854\n",
      "Epoch 5/20\n",
      "6250/6250 [==============================] - 59s 9ms/step - loss: 0.8029 - accuracy: 0.7204 - val_loss: 0.8563 - val_accuracy: 0.7065\n",
      "Epoch 6/20\n",
      "6250/6250 [==============================] - 65s 10ms/step - loss: 0.7242 - accuracy: 0.7483 - val_loss: 0.8183 - val_accuracy: 0.7164\n",
      "Epoch 7/20\n",
      "6250/6250 [==============================] - 62s 10ms/step - loss: 0.6524 - accuracy: 0.7722 - val_loss: 0.8454 - val_accuracy: 0.7151\n",
      "Epoch 8/20\n",
      "6250/6250 [==============================] - 56s 9ms/step - loss: 0.5823 - accuracy: 0.7980 - val_loss: 0.8275 - val_accuracy: 0.7209\n",
      "Epoch 9/20\n",
      "6250/6250 [==============================] - 56s 9ms/step - loss: 0.5202 - accuracy: 0.8196 - val_loss: 0.8301 - val_accuracy: 0.7254\n",
      "Epoch 10/20\n",
      "6250/6250 [==============================] - 54s 9ms/step - loss: 0.4560 - accuracy: 0.8422 - val_loss: 0.8279 - val_accuracy: 0.7272\n",
      "Epoch 11/20\n",
      "6250/6250 [==============================] - 55s 9ms/step - loss: 0.4004 - accuracy: 0.8621 - val_loss: 0.8434 - val_accuracy: 0.7379\n",
      "Epoch 12/20\n",
      "6250/6250 [==============================] - 57s 9ms/step - loss: 0.3487 - accuracy: 0.8800 - val_loss: 0.8584 - val_accuracy: 0.7360\n",
      "Epoch 13/20\n",
      "6250/6250 [==============================] - 58s 9ms/step - loss: 0.3049 - accuracy: 0.8957 - val_loss: 0.8800 - val_accuracy: 0.7369\n",
      "Epoch 14/20\n",
      "6250/6250 [==============================] - 57s 9ms/step - loss: 0.2647 - accuracy: 0.9086 - val_loss: 0.9398 - val_accuracy: 0.7331\n",
      "Epoch 15/20\n",
      "6250/6250 [==============================] - 57s 9ms/step - loss: 0.2312 - accuracy: 0.9195 - val_loss: 0.9634 - val_accuracy: 0.7334\n",
      "Epoch 16/20\n",
      "6250/6250 [==============================] - 57s 9ms/step - loss: 0.2096 - accuracy: 0.9270 - val_loss: 1.0058 - val_accuracy: 0.7317\n",
      "Epoch 17/20\n",
      "6250/6250 [==============================] - 55s 9ms/step - loss: 0.1831 - accuracy: 0.9365 - val_loss: 1.0346 - val_accuracy: 0.7350\n",
      "Epoch 18/20\n",
      "6250/6250 [==============================] - 53s 8ms/step - loss: 0.1605 - accuracy: 0.9461 - val_loss: 1.0951 - val_accuracy: 0.7367\n",
      "Epoch 19/20\n",
      "6250/6250 [==============================] - 54s 9ms/step - loss: 0.1470 - accuracy: 0.9500 - val_loss: 1.0470 - val_accuracy: 0.7380\n",
      "Epoch 20/20\n",
      "6250/6250 [==============================] - 56s 9ms/step - loss: 0.1388 - accuracy: 0.9537 - val_loss: 1.0991 - val_accuracy: 0.7348\n"
     ]
    }
   ],
   "source": [
    "history = model.fit(X_train, y_train, epochs=n_epochs,\n",
    "                    batch_size=batch_size,\n",
    "                    validation_data=(X_test, y_test),\n",
    "                    shuffle=True)"
   ]
  },
  {
   "cell_type": "code",
   "execution_count": null,
   "metadata": {},
   "outputs": [],
   "source": []
  }
 ],
 "metadata": {
  "kernelspec": {
   "display_name": "Python 3 (ipykernel)",
   "language": "python",
   "name": "python3"
  },
  "language_info": {
   "codemirror_mode": {
    "name": "ipython",
    "version": 3
   },
   "file_extension": ".py",
   "mimetype": "text/x-python",
   "name": "python",
   "nbconvert_exporter": "python",
   "pygments_lexer": "ipython3",
   "version": "3.10.11"
  }
 },
 "nbformat": 4,
 "nbformat_minor": 2
}
