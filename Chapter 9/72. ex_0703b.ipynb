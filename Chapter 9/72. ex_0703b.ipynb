{
 "cells": [
  {
   "cell_type": "markdown",
   "id": "6dcd4da1",
   "metadata": {},
   "source": [
    "## Coding Exercise #0703b"
   ]
  },
  {
   "cell_type": "markdown",
   "id": "5c6fe852",
   "metadata": {},
   "source": [
    "### 1. PCA with linear AutoEncoder:"
   ]
  },
  {
   "cell_type": "code",
   "execution_count": 1,
   "id": "df37ce66",
   "metadata": {},
   "outputs": [],
   "source": [
    "import tensorflow as tf\n",
    "from tensorflow import keras"
   ]
  },
  {
   "cell_type": "code",
   "execution_count": 2,
   "id": "e8956f59",
   "metadata": {},
   "outputs": [],
   "source": [
    "# Import the common module.\n",
    "import numpy as np\n",
    "import os\n",
    "\n",
    "# To maintain the execution result\n",
    "np.random.seed(42)\n",
    "tf.random.set_seed(42)"
   ]
  },
  {
   "cell_type": "code",
   "execution_count": 3,
   "id": "1becca75",
   "metadata": {},
   "outputs": [],
   "source": [
    "# To display a graph\n",
    "%matplotlib inline\n",
    "import matplotlib as mpl\n",
    "import matplotlib.pyplot as plt\n",
    "mpl.rc('axes', labelsize=14)\n",
    "mpl.rc('xtick', labelsize=12)\n",
    "mpl.rc('ytick', labelsize=12)"
   ]
  },
  {
   "cell_type": "code",
   "execution_count": 4,
   "id": "43b58dce",
   "metadata": {},
   "outputs": [],
   "source": [
    "# To draw a black-and-white image\n",
    "def plot_image(image):\n",
    "    plt.imshow(image, cmap=\"binary\")\n",
    "    plt.axis(\"off\")"
   ]
  },
  {
   "cell_type": "code",
   "execution_count": 5,
   "id": "bc6a7044",
   "metadata": {},
   "outputs": [],
   "source": [
    "# 3D dataset\n",
    "np.random.seed(4)\n",
    "\n",
    "def generate_3d_data(m, w1=0.1, w2=0.3, noise=0.1):\n",
    "    angles = np.random.rand(m) * 3 * np.pi / 2 - 0.5\n",
    "    data = np.empty((m, 3))\n",
    "    data[:, 0] = np.cos(angles) + np.sin(angles)/2 + noise * np.random.randn(m) / 2\n",
    "    data[:, 1] = np.sin(angles) * 0.7 + noise * np.random.randn(m) / 2\n",
    "    data[:, 2] = data[:, 0] * w1 + data[:, 1] * w2 + noise * np.random.randn(m)\n",
    "    return data\n",
    "\n",
    "X_train = generate_3d_data(60)\n",
    "X_train = X_train - X_train.mean(axis=0, keepdims=0)"
   ]
  },
  {
   "cell_type": "code",
   "execution_count": 6,
   "id": "cd7f12c5",
   "metadata": {},
   "outputs": [
    {
     "name": "stderr",
     "output_type": "stream",
     "text": [
      "WARNING:absl:At this time, the v2.11+ optimizer `tf.keras.optimizers.SGD` runs slowly on M1/M2 Macs, please use the legacy Keras optimizer instead, located at `tf.keras.optimizers.legacy.SGD`.\n",
      "WARNING:absl:There is a known slowdown when using v2.11+ Keras optimizers on M1/M2 Macs. Falling back to the legacy Keras optimizer, i.e., `tf.keras.optimizers.legacy.SGD`.\n"
     ]
    },
    {
     "name": "stdout",
     "output_type": "stream",
     "text": [
      "Epoch 1/20\n",
      "2/2 [==============================] - 0s 2ms/step - loss: 0.3076\n",
      "Epoch 2/20\n",
      "2/2 [==============================] - 0s 1ms/step - loss: 0.1036\n",
      "Epoch 3/20\n",
      "2/2 [==============================] - 0s 2ms/step - loss: 0.0678\n",
      "Epoch 4/20\n",
      "2/2 [==============================] - 0s 1ms/step - loss: 0.0486\n",
      "Epoch 5/20\n",
      "2/2 [==============================] - 0s 1ms/step - loss: 0.0350\n",
      "Epoch 6/20\n",
      "2/2 [==============================] - 0s 1ms/step - loss: 0.0185\n",
      "Epoch 7/20\n",
      "2/2 [==============================] - 0s 1ms/step - loss: 0.0132\n",
      "Epoch 8/20\n",
      "2/2 [==============================] - 0s 1ms/step - loss: 0.0120\n",
      "Epoch 9/20\n",
      "2/2 [==============================] - 0s 1ms/step - loss: 0.0183\n",
      "Epoch 10/20\n",
      "2/2 [==============================] - 0s 1ms/step - loss: 0.0222\n",
      "Epoch 11/20\n",
      "2/2 [==============================] - 0s 1ms/step - loss: 0.0471\n",
      "Epoch 12/20\n",
      "2/2 [==============================] - 0s 2ms/step - loss: 0.0482\n",
      "Epoch 13/20\n",
      "2/2 [==============================] - 0s 969us/step - loss: 0.0196\n",
      "Epoch 14/20\n",
      "2/2 [==============================] - 0s 1ms/step - loss: 0.0089\n",
      "Epoch 15/20\n",
      "2/2 [==============================] - 0s 1ms/step - loss: 0.0091\n",
      "Epoch 16/20\n",
      "2/2 [==============================] - 0s 1ms/step - loss: 0.0063\n",
      "Epoch 17/20\n",
      "2/2 [==============================] - 0s 2ms/step - loss: 0.0057\n",
      "Epoch 18/20\n",
      "2/2 [==============================] - 0s 1ms/step - loss: 0.0048\n",
      "Epoch 19/20\n",
      "2/2 [==============================] - 0s 1ms/step - loss: 0.0046\n",
      "Epoch 20/20\n",
      "2/2 [==============================] - 0s 1ms/step - loss: 0.0045\n"
     ]
    }
   ],
   "source": [
    "# AutoEncoder\n",
    "np.random.seed(42)\n",
    "tf.random.set_seed(42)\n",
    "\n",
    "encoder = keras.models.Sequential([keras.layers.Dense(2, input_shape=[3])])\n",
    "decoder = keras.models.Sequential([keras.layers.Dense(3, input_shape=[2])])\n",
    "autoencoder = keras.models.Sequential([encoder, decoder])\n",
    "\n",
    "autoencoder.compile(loss=\"mse\", optimizer=keras.optimizers.SGD(learning_rate=1.5))\n",
    "history = autoencoder.fit(X_train, X_train, epochs=20)"
   ]
  },
  {
   "cell_type": "code",
   "execution_count": 7,
   "id": "bfb5f949",
   "metadata": {},
   "outputs": [
    {
     "name": "stdout",
     "output_type": "stream",
     "text": [
      "2/2 [==============================] - 0s 930us/step\n"
     ]
    },
    {
     "data": {
      "image/png": "[encoded data removed]",
      "text/plain": [
       "<Figure size 400x300 with 1 Axes>"
      ]
     },
     "metadata": {},
     "output_type": "display_data"
    }
   ],
   "source": [
    "codings = encoder.predict(X_train)\n",
    "fig = plt.figure(figsize=(4,3))\n",
    "plt.plot(codings[:,0], codings[:, 1], \"b.\")\n",
    "plt.xlabel(\"$z_1$\", fontsize=18)\n",
    "plt.ylabel(\"$z_2$\", fontsize=18, rotation=0)\n",
    "plt.grid(True)\n",
    "\n",
    "plt.show()"
   ]
  },
  {
   "cell_type": "code",
   "execution_count": null,
   "id": "ab451b31",
   "metadata": {},
   "outputs": [],
   "source": []
  }
 ],
 "metadata": {
  "kernelspec": {
   "display_name": "Python 3 (ipykernel)",
   "language": "python",
   "name": "python3"
  },
  "language_info": {
   "codemirror_mode": {
    "name": "ipython",
    "version": 3
   },
   "file_extension": ".py",
   "mimetype": "text/x-python",
   "name": "python",
   "nbconvert_exporter": "python",
   "pygments_lexer": "ipython3",
   "version": "3.10.11"
  }
 },
 "nbformat": 4,
 "nbformat_minor": 5
}
